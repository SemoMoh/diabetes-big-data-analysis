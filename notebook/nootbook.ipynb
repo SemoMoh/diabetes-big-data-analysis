{
 "cells": [
  {
   "cell_type": "markdown",
   "metadata": {},
   "source": [
    "# SetUp"
   ]
  },
  {
   "cell_type": "markdown",
   "metadata": {},
   "source": [
    "imports and loading inputs"
   ]
  },
  {
   "cell_type": "code",
   "execution_count": null,
   "metadata": {},
   "outputs": [],
   "source": [
    "import pandas as pd\n",
    "import numpy as np\n",
    "diabetes_path = '../input/diabetes_prediction_dataset.csv'\n",
    "\n",
    "diabetes_data = pd.read_csv(diabetes_path)"
   ]
  },
  {
   "cell_type": "markdown",
   "metadata": {},
   "source": [
    "# Data cleaning"
   ]
  },
  {
   "cell_type": "markdown",
   "metadata": {},
   "source": [
    "### Data information"
   ]
  },
  {
   "cell_type": "code",
   "execution_count": null,
   "metadata": {},
   "outputs": [
    {
     "data": {
      "text/html": [
       "<div>\n",
       "<style scoped>\n",
       "    .dataframe tbody tr th:only-of-type {\n",
       "        vertical-align: middle;\n",
       "    }\n",
       "\n",
       "    .dataframe tbody tr th {\n",
       "        vertical-align: top;\n",
       "    }\n",
       "\n",
       "    .dataframe thead th {\n",
       "        text-align: right;\n",
       "    }\n",
       "</style>\n",
       "<table border=\"1\" class=\"dataframe\">\n",
       "  <thead>\n",
       "    <tr style=\"text-align: right;\">\n",
       "      <th></th>\n",
       "      <th>age</th>\n",
       "      <th>hypertension</th>\n",
       "      <th>heart_disease</th>\n",
       "      <th>bmi</th>\n",
       "      <th>HbA1c_level</th>\n",
       "      <th>blood_glucose_level</th>\n",
       "      <th>diabetes</th>\n",
       "    </tr>\n",
       "  </thead>\n",
       "  <tbody>\n",
       "    <tr>\n",
       "      <th>count</th>\n",
       "      <td>100000.000000</td>\n",
       "      <td>100000.00000</td>\n",
       "      <td>100000.000000</td>\n",
       "      <td>100000.000000</td>\n",
       "      <td>100000.000000</td>\n",
       "      <td>100000.000000</td>\n",
       "      <td>100000.000000</td>\n",
       "    </tr>\n",
       "    <tr>\n",
       "      <th>mean</th>\n",
       "      <td>41.885856</td>\n",
       "      <td>0.07485</td>\n",
       "      <td>0.039420</td>\n",
       "      <td>27.320767</td>\n",
       "      <td>5.527507</td>\n",
       "      <td>138.058060</td>\n",
       "      <td>0.085000</td>\n",
       "    </tr>\n",
       "    <tr>\n",
       "      <th>std</th>\n",
       "      <td>22.516840</td>\n",
       "      <td>0.26315</td>\n",
       "      <td>0.194593</td>\n",
       "      <td>6.636783</td>\n",
       "      <td>1.070672</td>\n",
       "      <td>40.708136</td>\n",
       "      <td>0.278883</td>\n",
       "    </tr>\n",
       "    <tr>\n",
       "      <th>min</th>\n",
       "      <td>0.080000</td>\n",
       "      <td>0.00000</td>\n",
       "      <td>0.000000</td>\n",
       "      <td>10.010000</td>\n",
       "      <td>3.500000</td>\n",
       "      <td>80.000000</td>\n",
       "      <td>0.000000</td>\n",
       "    </tr>\n",
       "    <tr>\n",
       "      <th>25%</th>\n",
       "      <td>24.000000</td>\n",
       "      <td>0.00000</td>\n",
       "      <td>0.000000</td>\n",
       "      <td>23.630000</td>\n",
       "      <td>4.800000</td>\n",
       "      <td>100.000000</td>\n",
       "      <td>0.000000</td>\n",
       "    </tr>\n",
       "    <tr>\n",
       "      <th>50%</th>\n",
       "      <td>43.000000</td>\n",
       "      <td>0.00000</td>\n",
       "      <td>0.000000</td>\n",
       "      <td>27.320000</td>\n",
       "      <td>5.800000</td>\n",
       "      <td>140.000000</td>\n",
       "      <td>0.000000</td>\n",
       "    </tr>\n",
       "    <tr>\n",
       "      <th>75%</th>\n",
       "      <td>60.000000</td>\n",
       "      <td>0.00000</td>\n",
       "      <td>0.000000</td>\n",
       "      <td>29.580000</td>\n",
       "      <td>6.200000</td>\n",
       "      <td>159.000000</td>\n",
       "      <td>0.000000</td>\n",
       "    </tr>\n",
       "    <tr>\n",
       "      <th>max</th>\n",
       "      <td>80.000000</td>\n",
       "      <td>1.00000</td>\n",
       "      <td>1.000000</td>\n",
       "      <td>95.690000</td>\n",
       "      <td>9.000000</td>\n",
       "      <td>300.000000</td>\n",
       "      <td>1.000000</td>\n",
       "    </tr>\n",
       "  </tbody>\n",
       "</table>\n",
       "</div>"
      ],
      "text/plain": [
       "                 age  hypertension  heart_disease            bmi  \\\n",
       "count  100000.000000  100000.00000  100000.000000  100000.000000   \n",
       "mean       41.885856       0.07485       0.039420      27.320767   \n",
       "std        22.516840       0.26315       0.194593       6.636783   \n",
       "min         0.080000       0.00000       0.000000      10.010000   \n",
       "25%        24.000000       0.00000       0.000000      23.630000   \n",
       "50%        43.000000       0.00000       0.000000      27.320000   \n",
       "75%        60.000000       0.00000       0.000000      29.580000   \n",
       "max        80.000000       1.00000       1.000000      95.690000   \n",
       "\n",
       "         HbA1c_level  blood_glucose_level       diabetes  \n",
       "count  100000.000000        100000.000000  100000.000000  \n",
       "mean        5.527507           138.058060       0.085000  \n",
       "std         1.070672            40.708136       0.278883  \n",
       "min         3.500000            80.000000       0.000000  \n",
       "25%         4.800000           100.000000       0.000000  \n",
       "50%         5.800000           140.000000       0.000000  \n",
       "75%         6.200000           159.000000       0.000000  \n",
       "max         9.000000           300.000000       1.000000  "
      ]
     },
     "execution_count": 564,
     "metadata": {},
     "output_type": "execute_result"
    }
   ],
   "source": [
    "# discribtion of dataset\n",
    "diabetes_data.describe()"
   ]
  },
  {
   "cell_type": "code",
   "execution_count": null,
   "metadata": {},
   "outputs": [
    {
     "data": {
      "text/plain": [
       "(100000, 9)"
      ]
     },
     "execution_count": 565,
     "metadata": {},
     "output_type": "execute_result"
    }
   ],
   "source": [
    "# shape of dataset\n",
    "diabetes_data.shape"
   ]
  },
  {
   "cell_type": "code",
   "execution_count": null,
   "metadata": {},
   "outputs": [
    {
     "name": "stdout",
     "output_type": "stream",
     "text": [
      "<class 'pandas.core.frame.DataFrame'>\n",
      "RangeIndex: 100000 entries, 0 to 99999\n",
      "Data columns (total 9 columns):\n",
      " #   Column               Non-Null Count   Dtype  \n",
      "---  ------               --------------   -----  \n",
      " 0   gender               100000 non-null  object \n",
      " 1   age                  100000 non-null  float64\n",
      " 2   hypertension         100000 non-null  int64  \n",
      " 3   heart_disease        100000 non-null  int64  \n",
      " 4   smoking_history      100000 non-null  object \n",
      " 5   bmi                  100000 non-null  float64\n",
      " 6   HbA1c_level          100000 non-null  float64\n",
      " 7   blood_glucose_level  100000 non-null  int64  \n",
      " 8   diabetes             100000 non-null  int64  \n",
      "dtypes: float64(3), int64(4), object(2)\n",
      "memory usage: 6.9+ MB\n"
     ]
    }
   ],
   "source": [
    "# summary of dataset\n",
    "diabetes_data.info()"
   ]
  },
  {
   "cell_type": "code",
   "execution_count": null,
   "metadata": {},
   "outputs": [
    {
     "data": {
      "text/html": [
       "<div>\n",
       "<style scoped>\n",
       "    .dataframe tbody tr th:only-of-type {\n",
       "        vertical-align: middle;\n",
       "    }\n",
       "\n",
       "    .dataframe tbody tr th {\n",
       "        vertical-align: top;\n",
       "    }\n",
       "\n",
       "    .dataframe thead th {\n",
       "        text-align: right;\n",
       "    }\n",
       "</style>\n",
       "<table border=\"1\" class=\"dataframe\">\n",
       "  <thead>\n",
       "    <tr style=\"text-align: right;\">\n",
       "      <th></th>\n",
       "      <th>gender</th>\n",
       "      <th>age</th>\n",
       "      <th>hypertension</th>\n",
       "      <th>heart_disease</th>\n",
       "      <th>smoking_history</th>\n",
       "      <th>bmi</th>\n",
       "      <th>HbA1c_level</th>\n",
       "      <th>blood_glucose_level</th>\n",
       "      <th>diabetes</th>\n",
       "    </tr>\n",
       "  </thead>\n",
       "  <tbody>\n",
       "    <tr>\n",
       "      <th>0</th>\n",
       "      <td>Female</td>\n",
       "      <td>80.0</td>\n",
       "      <td>0</td>\n",
       "      <td>1</td>\n",
       "      <td>never</td>\n",
       "      <td>25.19</td>\n",
       "      <td>6.6</td>\n",
       "      <td>140</td>\n",
       "      <td>0</td>\n",
       "    </tr>\n",
       "    <tr>\n",
       "      <th>1</th>\n",
       "      <td>Female</td>\n",
       "      <td>54.0</td>\n",
       "      <td>0</td>\n",
       "      <td>0</td>\n",
       "      <td>No Info</td>\n",
       "      <td>27.32</td>\n",
       "      <td>6.6</td>\n",
       "      <td>80</td>\n",
       "      <td>0</td>\n",
       "    </tr>\n",
       "    <tr>\n",
       "      <th>2</th>\n",
       "      <td>Male</td>\n",
       "      <td>28.0</td>\n",
       "      <td>0</td>\n",
       "      <td>0</td>\n",
       "      <td>never</td>\n",
       "      <td>27.32</td>\n",
       "      <td>5.7</td>\n",
       "      <td>158</td>\n",
       "      <td>0</td>\n",
       "    </tr>\n",
       "    <tr>\n",
       "      <th>3</th>\n",
       "      <td>Female</td>\n",
       "      <td>36.0</td>\n",
       "      <td>0</td>\n",
       "      <td>0</td>\n",
       "      <td>current</td>\n",
       "      <td>23.45</td>\n",
       "      <td>5.0</td>\n",
       "      <td>155</td>\n",
       "      <td>0</td>\n",
       "    </tr>\n",
       "    <tr>\n",
       "      <th>4</th>\n",
       "      <td>Male</td>\n",
       "      <td>76.0</td>\n",
       "      <td>1</td>\n",
       "      <td>1</td>\n",
       "      <td>current</td>\n",
       "      <td>20.14</td>\n",
       "      <td>4.8</td>\n",
       "      <td>155</td>\n",
       "      <td>0</td>\n",
       "    </tr>\n",
       "  </tbody>\n",
       "</table>\n",
       "</div>"
      ],
      "text/plain": [
       "   gender   age  hypertension  heart_disease smoking_history    bmi  \\\n",
       "0  Female  80.0             0              1           never  25.19   \n",
       "1  Female  54.0             0              0         No Info  27.32   \n",
       "2    Male  28.0             0              0           never  27.32   \n",
       "3  Female  36.0             0              0         current  23.45   \n",
       "4    Male  76.0             1              1         current  20.14   \n",
       "\n",
       "   HbA1c_level  blood_glucose_level  diabetes  \n",
       "0          6.6                  140         0  \n",
       "1          6.6                   80         0  \n",
       "2          5.7                  158         0  \n",
       "3          5.0                  155         0  \n",
       "4          4.8                  155         0  "
      ]
     },
     "execution_count": 567,
     "metadata": {},
     "output_type": "execute_result"
    }
   ],
   "source": [
    "# first 5 rows of the data\n",
    "diabetes_data.head()"
   ]
  },
  {
   "cell_type": "markdown",
   "metadata": {},
   "source": [
    "### check for missing data"
   ]
  },
  {
   "cell_type": "code",
   "execution_count": null,
   "metadata": {},
   "outputs": [
    {
     "data": {
      "text/plain": [
       "gender                 0\n",
       "age                    0\n",
       "hypertension           0\n",
       "heart_disease          0\n",
       "smoking_history        0\n",
       "bmi                    0\n",
       "HbA1c_level            0\n",
       "blood_glucose_level    0\n",
       "diabetes               0\n",
       "dtype: int64"
      ]
     },
     "execution_count": 568,
     "metadata": {},
     "output_type": "execute_result"
    }
   ],
   "source": [
    "missing_values_count = diabetes_data.isnull().sum()\n",
    "missing_values_count"
   ]
  },
  {
   "cell_type": "markdown",
   "metadata": {},
   "source": [
    "### check unique values in column that holds objects"
   ]
  },
  {
   "cell_type": "code",
   "execution_count": null,
   "metadata": {},
   "outputs": [
    {
     "name": "stdout",
     "output_type": "stream",
     "text": [
      "gender:  ['Female' 'Male' 'Other']\n",
      "smoking_history:  ['never' 'No Info' 'current' 'former' 'ever' 'not current']\n"
     ]
    }
   ],
   "source": [
    "object_columns = ['gender', 'smoking_history']\n",
    "for column in object_columns:\n",
    "    print(column + \": \", diabetes_data[column].unique())"
   ]
  },
  {
   "cell_type": "markdown",
   "metadata": {},
   "source": [
    "For the `gender` column, drop any row with `Other` gender"
   ]
  },
  {
   "cell_type": "code",
   "execution_count": null,
   "metadata": {},
   "outputs": [
    {
     "name": "stdout",
     "output_type": "stream",
     "text": [
      "['Female' 'Male']\n",
      "(99982, 9)\n"
     ]
    }
   ],
   "source": [
    "# Filter out rows with 'gender' other than 'Female' or 'Male'\n",
    "diabetes_data = diabetes_data[(diabetes_data['gender'] == 'Female') | (diabetes_data['gender'] == 'Male')]\n",
    "\n",
    "# Show the new unique values\n",
    "print(diabetes_data['gender'].unique())\n",
    "\n",
    "# show the new size of the dataset\n",
    "print(diabetes_data.shape)"
   ]
  },
  {
   "cell_type": "markdown",
   "metadata": {},
   "source": [
    "For the `smoking_history` column, replace any `No Info` with `None`."
   ]
  },
  {
   "cell_type": "code",
   "execution_count": null,
   "metadata": {},
   "outputs": [
    {
     "name": "stdout",
     "output_type": "stream",
     "text": [
      "gender                     0\n",
      "age                        0\n",
      "hypertension               0\n",
      "heart_disease              0\n",
      "smoking_history        35810\n",
      "bmi                        0\n",
      "HbA1c_level                0\n",
      "blood_glucose_level        0\n",
      "diabetes                   0\n",
      "dtype: int64 \n",
      "\n",
      "<class 'pandas.core.frame.DataFrame'>\n",
      "Index: 99982 entries, 0 to 99999\n",
      "Data columns (total 9 columns):\n",
      " #   Column               Non-Null Count  Dtype  \n",
      "---  ------               --------------  -----  \n",
      " 0   gender               99982 non-null  object \n",
      " 1   age                  99982 non-null  float64\n",
      " 2   hypertension         99982 non-null  int64  \n",
      " 3   heart_disease        99982 non-null  int64  \n",
      " 4   smoking_history      64172 non-null  object \n",
      " 5   bmi                  99982 non-null  float64\n",
      " 6   HbA1c_level          99982 non-null  float64\n",
      " 7   blood_glucose_level  99982 non-null  int64  \n",
      " 8   diabetes             99982 non-null  int64  \n",
      "dtypes: float64(3), int64(4), object(2)\n",
      "memory usage: 7.6+ MB\n",
      "None\n"
     ]
    }
   ],
   "source": [
    "diabetes_data['smoking_history'] = diabetes_data['smoking_history'].replace('No Info', np.nan)\n",
    "# Show the new missing values\n",
    "missing_values_count= diabetes_data.isnull().sum()\n",
    "print(missing_values_count, '\\n')\n",
    "print(diabetes_data.info())"
   ]
  },
  {
   "cell_type": "markdown",
   "metadata": {},
   "source": [
    "Show the unique values of the `smoking_history` after the change "
   ]
  },
  {
   "cell_type": "code",
   "execution_count": null,
   "metadata": {},
   "outputs": [
    {
     "data": {
      "text/plain": [
       "array(['never', nan, 'current', 'former', 'ever', 'not current'],\n",
       "      dtype=object)"
      ]
     },
     "execution_count": 572,
     "metadata": {},
     "output_type": "execute_result"
    }
   ],
   "source": [
    "diabetes_data['smoking_history'].unique()"
   ]
  },
  {
   "cell_type": "markdown",
   "metadata": {},
   "source": [
    "Number and percentage of the rows with missing `smoking_history` value"
   ]
  },
  {
   "cell_type": "code",
   "execution_count": null,
   "metadata": {},
   "outputs": [
    {
     "name": "stdout",
     "output_type": "stream",
     "text": [
      "Missing calues count: \n",
      " 35810\n",
      "Missing values percentage: \n",
      " 35.81644696045288 %\n"
     ]
    }
   ],
   "source": [
    "# Calculate the percentage of missing values in each column\n",
    "missing_percentage = (missing_values_count / len(diabetes_data)) * 100\n",
    "\n",
    "print(\"Missing calues count: \\n\", missing_values_count.sum())\n",
    "print(\"Missing values percentage: \\n\", missing_percentage.sum(), \"%\")"
   ]
  },
  {
   "cell_type": "markdown",
   "metadata": {},
   "source": [
    "So these missing values are a problem. \n",
    "* If we drop them we will lose lots of data which will affect the prediction.\n",
    "* Change nan with the previous value could be a solution, but not the best one."
   ]
  },
  {
   "cell_type": "code",
   "execution_count": null,
   "metadata": {},
   "outputs": [
    {
     "name": "stdout",
     "output_type": "stream",
     "text": [
      "Missing values count:  0\n",
      "['never' 'current' 'former' 'ever' 'not current']\n"
     ]
    }
   ],
   "source": [
    "diabetes_data['smoking_history'] = diabetes_data['smoking_history'].ffill().fillna('never')\n",
    "\n",
    "# calculate the new missing values\n",
    "missing_values_count = diabetes_data.isnull().sum().sum()\n",
    "print(\"Missing values count: \", missing_values_count)\n",
    "\n",
    "# show the new unique values for this column\n",
    "print(diabetes_data['smoking_history'].unique())"
   ]
  },
  {
   "cell_type": "markdown",
   "metadata": {},
   "source": [
    "At this cell, we removed any missing data."
   ]
  },
  {
   "cell_type": "code",
   "execution_count": null,
   "metadata": {},
   "outputs": [
    {
     "name": "stdout",
     "output_type": "stream",
     "text": [
      "<class 'pandas.core.frame.DataFrame'>\n",
      "Index: 99982 entries, 0 to 99999\n",
      "Data columns (total 9 columns):\n",
      " #   Column               Non-Null Count  Dtype  \n",
      "---  ------               --------------  -----  \n",
      " 0   gender               99982 non-null  object \n",
      " 1   age                  99982 non-null  float64\n",
      " 2   hypertension         99982 non-null  int64  \n",
      " 3   heart_disease        99982 non-null  int64  \n",
      " 4   smoking_history      99982 non-null  object \n",
      " 5   bmi                  99982 non-null  float64\n",
      " 6   HbA1c_level          99982 non-null  float64\n",
      " 7   blood_glucose_level  99982 non-null  int64  \n",
      " 8   diabetes             99982 non-null  int64  \n",
      "dtypes: float64(3), int64(4), object(2)\n",
      "memory usage: 7.6+ MB\n"
     ]
    }
   ],
   "source": [
    "diabetes_data.info()"
   ]
  },
  {
   "cell_type": "markdown",
   "metadata": {},
   "source": [
    "### check for the data dublicates"
   ]
  },
  {
   "cell_type": "code",
   "execution_count": null,
   "metadata": {},
   "outputs": [
    {
     "name": "stdout",
     "output_type": "stream",
     "text": [
      "Number of duplicates: 3658\n",
      "Percentage of duplicates: 3.6586585585405373 %\n"
     ]
    }
   ],
   "source": [
    "# Check for duplicates in the entire DataFrame\n",
    "duplicates = diabetes_data.duplicated()\n",
    "\n",
    "# Count the number of duplicates\n",
    "num_duplicates = duplicates.sum()\n",
    "\n",
    "# Display the number of duplicates\n",
    "print(\"Number of duplicates:\", num_duplicates)\n",
    "\n",
    "# Calculate the percentage of duplicates\n",
    "percentage_duplicates = (num_duplicates / len(diabetes_data)) * 100\n",
    "\n",
    "# Display the percentage of duplicates\n",
    "print(\"Percentage of duplicates:\", percentage_duplicates, \"%\")"
   ]
  },
  {
   "cell_type": "markdown",
   "metadata": {},
   "source": [
    "As shown in the disscuion tab in the dataset, this duplicates happened because each person can make many checks for diabetes.\n",
    "As it is only small percentage of the data, we choose to drop all the duplicates."
   ]
  },
  {
   "cell_type": "code",
   "execution_count": null,
   "metadata": {},
   "outputs": [],
   "source": [
    "diabetes_data.drop_duplicates(inplace=True)"
   ]
  },
  {
   "cell_type": "code",
   "execution_count": null,
   "metadata": {},
   "outputs": [
    {
     "name": "stdout",
     "output_type": "stream",
     "text": [
      "Number of duplicates: 0 \n",
      "\n"
     ]
    }
   ],
   "source": [
    "# Calculate the new duplicates in the entire DataFrame\n",
    "duplicates = diabetes_data.duplicated()\n",
    "\n",
    "# Count the number of duplicates\n",
    "num_duplicates = duplicates.sum()\n",
    "\n",
    "# Display the number of duplicates\n",
    "print(\"Number of duplicates:\", num_duplicates, '\\n')\n"
   ]
  },
  {
   "cell_type": "markdown",
   "metadata": {},
   "source": [
    "### Summary"
   ]
  },
  {
   "cell_type": "markdown",
   "metadata": {},
   "source": [
    "At this step, data should be consistent. The next step show all the data info after the data cleaning step"
   ]
  },
  {
   "cell_type": "code",
   "execution_count": null,
   "metadata": {},
   "outputs": [
    {
     "name": "stdout",
     "output_type": "stream",
     "text": [
      "<class 'pandas.core.frame.DataFrame'>\n",
      "Index: 96324 entries, 0 to 99999\n",
      "Data columns (total 9 columns):\n",
      " #   Column               Non-Null Count  Dtype  \n",
      "---  ------               --------------  -----  \n",
      " 0   gender               96324 non-null  object \n",
      " 1   age                  96324 non-null  float64\n",
      " 2   hypertension         96324 non-null  int64  \n",
      " 3   heart_disease        96324 non-null  int64  \n",
      " 4   smoking_history      96324 non-null  object \n",
      " 5   bmi                  96324 non-null  float64\n",
      " 6   HbA1c_level          96324 non-null  float64\n",
      " 7   blood_glucose_level  96324 non-null  int64  \n",
      " 8   diabetes             96324 non-null  int64  \n",
      "dtypes: float64(3), int64(4), object(2)\n",
      "memory usage: 7.3+ MB\n"
     ]
    }
   ],
   "source": [
    "# print the info\n",
    "(diabetes_data.info())\n"
   ]
  },
  {
   "cell_type": "code",
   "execution_count": null,
   "metadata": {},
   "outputs": [
    {
     "name": "stdout",
     "output_type": "stream",
     "text": [
      "missing values\n",
      "gender                 0\n",
      "age                    0\n",
      "hypertension           0\n",
      "heart_disease          0\n",
      "smoking_history        0\n",
      "bmi                    0\n",
      "HbA1c_level            0\n",
      "blood_glucose_level    0\n",
      "diabetes               0\n",
      "dtype: int64\n",
      "\n",
      "duplicates number: 0\n"
     ]
    }
   ],
   "source": [
    "# print the missing values and the duplicates count\n",
    "print(\"missing values\")\n",
    "print(diabetes_data.isnull().sum())\n",
    "print(\"\\nduplicates number:\",diabetes_data.duplicated().sum())"
   ]
  },
  {
   "cell_type": "markdown",
   "metadata": {},
   "source": [
    "# Data analysis (prediction)"
   ]
  },
  {
   "cell_type": "markdown",
   "metadata": {},
   "source": [
    "### SetUp\n",
    "imports"
   ]
  },
  {
   "cell_type": "code",
   "execution_count": null,
   "metadata": {},
   "outputs": [],
   "source": [
    "from sklearn.tree import DecisionTreeRegressor\n",
    "from sklearn.tree import DecisionTreeClassifier \n",
    "from sklearn.ensemble import RandomForestClassifier\n",
    "from sklearn.model_selection import train_test_split\n",
    "from sklearn.metrics import mean_absolute_error\n",
    "from sklearn.metrics import accuracy_score"
   ]
  },
  {
   "cell_type": "markdown",
   "metadata": {},
   "source": [
    "### Predict `diabetes`"
   ]
  },
  {
   "cell_type": "markdown",
   "metadata": {},
   "source": [
    "#### Define Target and Features"
   ]
  },
  {
   "cell_type": "markdown",
   "metadata": {},
   "source": [
    "Mapping Objects columns into numeric values:"
   ]
  },
  {
   "cell_type": "code",
   "execution_count": null,
   "metadata": {},
   "outputs": [
    {
     "data": {
      "text/plain": [
       "Index(['age', 'hypertension', 'heart_disease', 'bmi', 'HbA1c_level',\n",
       "       'blood_glucose_level', 'diabetes', 'gender_Female', 'gender_Male',\n",
       "       'smoking_history_current', 'smoking_history_ever',\n",
       "       'smoking_history_former', 'smoking_history_never',\n",
       "       'smoking_history_not current'],\n",
       "      dtype='object')"
      ]
     },
     "execution_count": 582,
     "metadata": {},
     "output_type": "execute_result"
    }
   ],
   "source": [
    "dummy_cols = pd.get_dummies(diabetes_data, columns=['gender', 'smoking_history'])\n",
    "dummy_cols.columns"
   ]
  },
  {
   "cell_type": "code",
   "execution_count": null,
   "metadata": {},
   "outputs": [
    {
     "name": "stdout",
     "output_type": "stream",
     "text": [
      "<class 'pandas.core.frame.DataFrame'>\n",
      "Index: 96324 entries, 0 to 99999\n",
      "Data columns (total 14 columns):\n",
      " #   Column                       Non-Null Count  Dtype  \n",
      "---  ------                       --------------  -----  \n",
      " 0   age                          96324 non-null  float64\n",
      " 1   hypertension                 96324 non-null  int64  \n",
      " 2   heart_disease                96324 non-null  int64  \n",
      " 3   bmi                          96324 non-null  float64\n",
      " 4   HbA1c_level                  96324 non-null  float64\n",
      " 5   blood_glucose_level          96324 non-null  int64  \n",
      " 6   blood_glucose_level          96324 non-null  int64  \n",
      " 7   gender_Female                96324 non-null  bool   \n",
      " 8   gender_Male                  96324 non-null  bool   \n",
      " 9   smoking_history_current      96324 non-null  bool   \n",
      " 10  smoking_history_ever         96324 non-null  bool   \n",
      " 11  smoking_history_former       96324 non-null  bool   \n",
      " 12  smoking_history_never        96324 non-null  bool   \n",
      " 13  smoking_history_not current  96324 non-null  bool   \n",
      "dtypes: bool(7), float64(3), int64(4)\n",
      "memory usage: 6.5 MB\n",
      "None\n",
      "<class 'pandas.core.series.Series'>\n",
      "Index: 96324 entries, 0 to 99999\n",
      "Series name: diabetes\n",
      "Non-Null Count  Dtype\n",
      "--------------  -----\n",
      "96324 non-null  int64\n",
      "dtypes: int64(1)\n",
      "memory usage: 1.5 MB\n",
      "None\n"
     ]
    }
   ],
   "source": [
    "features = ['age', 'hypertension', 'heart_disease', 'bmi', 'HbA1c_level',\n",
    "       'blood_glucose_level', 'blood_glucose_level', 'gender_Female', 'gender_Male',\n",
    "       'smoking_history_current', 'smoking_history_ever',\n",
    "       'smoking_history_former', 'smoking_history_never',\n",
    "       'smoking_history_not current']\n",
    "\n",
    "X = dummy_cols[features]\n",
    "X = X\n",
    "y = dummy_cols.diabetes\n",
    "y = y\n",
    "\n",
    "\n",
    "print(X.info())\n",
    "print(y.info())"
   ]
  },
  {
   "cell_type": "markdown",
   "metadata": {},
   "source": [
    "Split data"
   ]
  },
  {
   "cell_type": "code",
   "execution_count": null,
   "metadata": {},
   "outputs": [],
   "source": [
    "train_X, val_X, train_y, val_y = train_test_split(X, y)\n",
    "train_X = train_X\n",
    "train_y = train_y\n",
    "val_X = val_X\n",
    "val_y = val_y"
   ]
  },
  {
   "cell_type": "markdown",
   "metadata": {},
   "source": [
    "#### Using Decision tree"
   ]
  },
  {
   "cell_type": "markdown",
   "metadata": {},
   "source": [
    "Error evaluation function"
   ]
  },
  {
   "cell_type": "code",
   "execution_count": null,
   "metadata": {},
   "outputs": [],
   "source": [
    "def get_accuracy(max_leaf_nodes, train_X, val_X, train_y, val_y):\n",
    "    # Create decision tree model with specified max_leaf_nodes\n",
    "    model = DecisionTreeClassifier(max_leaf_nodes=max_leaf_nodes, random_state=0)\n",
    "    \n",
    "    # Fit the model on training data\n",
    "    model.fit(train_X, train_y)\n",
    "    \n",
    "    # Make predictions on validation data\n",
    "    preds_val = model.predict(val_X)\n",
    "    \n",
    "    # Calculate accuracy\n",
    "    accuracy_value = accuracy_score(val_y.astype(int), preds_val.astype(int))\n",
    "    \n",
    "    return accuracy_value"
   ]
  },
  {
   "cell_type": "markdown",
   "metadata": {},
   "source": [
    "getting the best `max_leaf_nodes` to get the best possible accuracy, Loop to get the best depth of the tree"
   ]
  },
  {
   "cell_type": "code",
   "execution_count": null,
   "metadata": {},
   "outputs": [
    {
     "name": "stdout",
     "output_type": "stream",
     "text": [
      "Best max_depth: 7, Acuracy: 97.19696025912545%\n"
     ]
    }
   ],
   "source": [
    "max_depth_values = range(2, 300, 5)\n",
    "\n",
    "# Dictionary to store the accuracy for each max_depth\n",
    "accuracy_scores = {}\n",
    "\n",
    "# Loop to calculate the accuracy for each value of max_depth\n",
    "for max_depth in max_depth_values:\n",
    "    # Calculate accuracy using the get_mae function\n",
    "    accuracy_value = get_accuracy(max_depth, train_X, val_X, train_y, val_y)\n",
    "    \n",
    "    # Store the accuracy score for the current max_depth\n",
    "    accuracy_scores[max_depth] = accuracy_value\n",
    "\n",
    "# Find the max_depth with the highest accuracy\n",
    "best_max_depth = max(accuracy_scores, key=accuracy_scores.get)\n",
    "best_accuracy = accuracy_scores[best_max_depth]\n",
    "\n",
    "print(f\"Best max_depth: {best_max_depth}, Acuracy: {best_accuracy*100}%\")"
   ]
  },
  {
   "cell_type": "markdown",
   "metadata": {},
   "source": [
    "Use the `best_max_depth` to train the best tree possible, then calculate the accuracy."
   ]
  },
  {
   "cell_type": "code",
   "execution_count": null,
   "metadata": {},
   "outputs": [
    {
     "name": "stdout",
     "output_type": "stream",
     "text": [
      "accuracy: 97.19696025912545%\n"
     ]
    }
   ],
   "source": [
    " # Create decision tree model with specified max_leaf_nodes\n",
    "model = DecisionTreeClassifier(max_leaf_nodes=best_max_depth)\n",
    "\n",
    "# Fit the model on training data\n",
    "model.fit(train_X, train_y)\n",
    "\n",
    "# Make predictions on validation data\n",
    "preds_val = model.predict(val_X)\n",
    "\n",
    "# Calculate accuracy\n",
    "accuracy_value = accuracy_score(val_y.astype(int), preds_val.astype(int))\n",
    "\n",
    "print(f\"accuracy: {accuracy_value*100}%\")"
   ]
  },
  {
   "cell_type": "markdown",
   "metadata": {},
   "source": [
    "#### Using Random forest"
   ]
  },
  {
   "cell_type": "code",
   "execution_count": null,
   "metadata": {},
   "outputs": [
    {
     "name": "stdout",
     "output_type": "stream",
     "text": [
      "Accuracy: 96.81491632407293 %\n"
     ]
    }
   ],
   "source": [
    "model = RandomForestClassifier()\n",
    "\n",
    "model.fit(train_X, train_y)\n",
    "\n",
    "preds_val = model.predict(val_X)\n",
    "\n",
    "print(\"Accuracy:\", accuracy_score(val_y.astype(int), preds_val.astype(int))*100, \"%\")"
   ]
  },
  {
   "cell_type": "markdown",
   "metadata": {},
   "source": [
    "#### Using Nueral network "
   ]
  },
  {
   "cell_type": "markdown",
   "metadata": {},
   "source": []
  },
  {
   "cell_type": "markdown",
   "metadata": {},
   "source": [
    "# Data visualization"
   ]
  },
  {
   "cell_type": "markdown",
   "metadata": {},
   "source": []
  }
 ],
 "metadata": {
  "kernelspec": {
   "display_name": "base",
   "language": "python",
   "name": "python3"
  },
  "language_info": {
   "codemirror_mode": {
    "name": "ipython",
    "version": 3
   },
   "file_extension": ".py",
   "mimetype": "text/x-python",
   "name": "python",
   "nbconvert_exporter": "python",
   "pygments_lexer": "ipython3",
   "version": "3.12.2"
  }
 },
 "nbformat": 4,
 "nbformat_minor": 2
}
